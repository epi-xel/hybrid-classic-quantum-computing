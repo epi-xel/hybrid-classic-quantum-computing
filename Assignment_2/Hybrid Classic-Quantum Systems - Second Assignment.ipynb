{
 "cells": [
  {
   "cell_type": "markdown",
   "id": "c0cf661d",
   "metadata": {},
   "source": [
    "# Hybrid Classic-Quantum Systems - Second Assignment #\n",
    "\n",
    "You should fill in this Jupyter notebook in order to complete the assignment. Here a small recap of the rules:\n",
    "\n",
    "* You should **NOT** modify the functions that are already provided in the notebook, unless it is strictly necessary;\n",
    "* If you want to modify the given functions, please, provide an explanation of why you had to;\n",
    "* You can define new functions, as soon as they are well commented;\n",
    "* You can import all libraries you want, as soon as you justify their utilization;\n",
    "* You can add new cells, as soon as you do not remove the cells where you are supposed to comment your solution;\n",
    "* You are supposed to work by yourself - **plagiarism will not be tolerated**;\n",
    "* Your solution should be commented and accompanied by a small description - you can add additional cells if needed;\n",
    "* For any issue and doubt, please do not hesitate to use the forum or to write me an email.\n"
   ]
  },
  {
   "cell_type": "markdown",
   "id": "982c6da8",
   "metadata": {},
   "source": [
    "## Exercise 1: Classic K-Means (25 points) ##\n",
    "The first task you have to do for the assignment is the implementation of a classic version of k-means. This version will be used as a reference for your next exercises.\n",
    "\n",
    "Some useful references:\n",
    "* https://en.wikipedia.org/wiki/K-means_clustering\n",
    "* NumPy reference: https://numpy.org/doc/stable/reference/\n",
    "* Matplotlib reference: https://matplotlib.org/"
   ]
  },
  {
   "cell_type": "markdown",
   "id": "c99e2811",
   "metadata": {},
   "source": [
    "### Creation of the dataset ###\n",
    "We create a simple multiclass dataset with normally distributed clusters of points. To do this, we use the *make_blobs* function from *scikit-learn*"
   ]
  },
  {
   "cell_type": "code",
   "execution_count": null,
   "id": "d3d70625",
   "metadata": {},
   "outputs": [],
   "source": [
    "from sklearn.datasets import make_blobs\n",
    "\n",
    "def create_dataset(number_of_points, number_of_centers):\n",
    "    data = make_blobs(n_samples=number_of_points, n_features=2, centers=number_of_centers, cluster_std=2, random_state=100)\n",
    "    points = np.array(data[0])\n",
    "    centers = np.array(data[1])\n",
    "    \n",
    "    return data, centers\n",
    "\n",
    "dataset, centers = create_dataset(100,4)"
   ]
  },
  {
   "cell_type": "markdown",
   "id": "da0ee733",
   "metadata": {},
   "source": [
    "### Normalize Input Points ###\n",
    "We need to rescale the input in a specific interval."
   ]
  },
  {
   "cell_type": "code",
   "execution_count": null,
   "id": "a620c135",
   "metadata": {},
   "outputs": [],
   "source": [
    "import numpy as np\n",
    "\n",
    "def preprocess(data_points):\n",
    "    data_p = np.array(data_points[0])\n",
    "    n = len(data_p)\n",
    "    print(n)\n",
    "    x = 30.0 * np.sqrt(2)\n",
    "    for i in range(0,n):\n",
    "        data_p[i][:] += 15\n",
    "        data_p[i][:] /= x\n",
    "        \n",
    "    return data_p"
   ]
  },
  {
   "cell_type": "markdown",
   "id": "12ea1661",
   "metadata": {},
   "source": [
    "### Plot points ###"
   ]
  },
  {
   "cell_type": "markdown",
   "id": "1c72303f",
   "metadata": {},
   "source": [
    "We can use this function to plot the points in the space during algorithm execution."
   ]
  },
  {
   "cell_type": "code",
   "execution_count": null,
   "id": "65af3357",
   "metadata": {},
   "outputs": [],
   "source": [
    "import matplotlib.pyplot as plt \n",
    "\n",
    "def draw_plot(points,centers,label=True):\n",
    "    if label==False:\n",
    "        plt.scatter(points[:,0], points[:,1])\n",
    "    else:\n",
    "        plt.scatter(points[:,0], points[:,1], c=centers, cmap='viridis')\n",
    "    plt.xlim(0,1)\n",
    "    plt.ylim(0,1)\n",
    "    plt.show()"
   ]
  },
  {
   "cell_type": "markdown",
   "id": "fb7ff664",
   "metadata": {},
   "source": [
    "### Plot Centroids ###\n",
    "You can use this function to check the update of the centroids."
   ]
  },
  {
   "cell_type": "code",
   "execution_count": null,
   "id": "33a09add",
   "metadata": {},
   "outputs": [],
   "source": [
    "def plot_centroids(centers):\n",
    "    plt.scatter(centers[:,0], centers[:,1])\n",
    "    plt.xlim(0,1)\n",
    "    plt.ylim(0,1)\n",
    "    plt.show()"
   ]
  },
  {
   "cell_type": "markdown",
   "id": "7ff8696f",
   "metadata": {},
   "source": [
    "### Initialize Centroids ###\n",
    "The first step of the algorithm is to initialize the centroids in the space, that will be updated in further iterations of the algorithm."
   ]
  },
  {
   "cell_type": "code",
   "execution_count": null,
   "id": "7cbb0167",
   "metadata": {},
   "outputs": [],
   "source": [
    "def initialize_centroids(points,k):\n",
    "   "
   ]
  },
  {
   "cell_type": "markdown",
   "id": "c9d82d19",
   "metadata": {},
   "source": [
    "#### EDIT THIS CELL TO COMMENT YOUR SOLUTION ####"
   ]
  },
  {
   "cell_type": "markdown",
   "id": "324d118d",
   "metadata": {},
   "source": [
    "### Find nearest neighbors ###\n",
    "Now we need to find the closest center for each point. This computation depends on the distance function that we want to use."
   ]
  },
  {
   "cell_type": "code",
   "execution_count": null,
   "id": "73ee5d69",
   "metadata": {},
   "outputs": [],
   "source": [
    "def dist_func(points, centroids):\n",
    "    \n",
    "\n",
    "def find_nearest_neighbour(points, centroids, dist_func):\n",
    "    "
   ]
  },
  {
   "cell_type": "markdown",
   "id": "510a83b7",
   "metadata": {},
   "source": [
    "#### EDIT THIS CELL TO COMMENT YOUR SOLUTION ####"
   ]
  },
  {
   "cell_type": "markdown",
   "id": "70cd98a5",
   "metadata": {},
   "source": [
    "### Find centroids ###\n",
    "Finally, we update centroids based on the nearest centers for each point."
   ]
  },
  {
   "cell_type": "code",
   "execution_count": null,
   "id": "26a02708",
   "metadata": {},
   "outputs": [],
   "source": [
    "def find_centroids(points, centers):\n",
    "   "
   ]
  },
  {
   "cell_type": "markdown",
   "id": "e168ed98",
   "metadata": {},
   "source": [
    "#### EDIT THIS CELL TO COMMENT YOUR SOLUTION ####"
   ]
  },
  {
   "cell_type": "markdown",
   "id": "f9bc7a4b",
   "metadata": {},
   "source": [
    "### Main k-means loop ###"
   ]
  },
  {
   "cell_type": "code",
   "execution_count": null,
   "id": "8e0e6cf0",
   "metadata": {},
   "outputs": [],
   "source": [
    "n = 100  # number of data points\n",
    "k = 4  # Number of centers\n",
    "\n",
    "\n",
    "points, o_centers = create_dataset(n, k)  # dataset\n",
    "points = preprocess(points)  # Normalize dataset\n",
    "\n",
    "plt.figure()\n",
    "draw_plot(points, o_centers, label=False)\n",
    "\n",
    "centroids = initialize_centroids(points, k)  # Intialize centroids\n",
    "\n",
    "# run k-means algorithm\n",
    "### EDIT FROM HERE ###\n"
   ]
  },
  {
   "cell_type": "markdown",
   "id": "67b05bdf",
   "metadata": {},
   "source": [
    "#### EDIT THIS CELL TO COMMENT YOUR SOLUTION ####"
   ]
  },
  {
   "cell_type": "markdown",
   "id": "96009d80",
   "metadata": {},
   "source": [
    "### Bonus question ###\n",
    "* Modify your implementation into k-medians.\n",
    "* Compare the results for the two algorithms: can you see any difference?\n",
    "**ADD MORE CELLS BELOW TO ANSWER THESE QUESTIONS**"
   ]
  },
  {
   "cell_type": "markdown",
   "id": "567e7e77",
   "metadata": {},
   "source": [
    "## Exercise 2: Quantum K-Means (45 points) ##\n",
    "Now you have to modify your implementation of k-means and move some of the component on quantum."
   ]
  },
  {
   "cell_type": "markdown",
   "id": "994f88c1",
   "metadata": {},
   "source": [
    "### Encoding ###\n",
    "First step is to find out the best encoding for the input data points.\n",
    "References about data encoding:\n",
    "* Weigold et al., \"Data encoding patterns for quantum computing\" (https://dl.acm.org/doi/10.5555/3511065.3511068)\n",
    "* P. Niemann, R. Datta, and R. Wille, Logic Synthesis for Quantum State Generation, IEEE 46th International Symposium on Multiple-Valued Logic, Springer (2016) pp. 247-252. (https://ieeexplore.ieee.org/abstract/document/7515556)\n",
    "* M. Mttnen, J. Vartiainen, V. Bergholm, and M. M. Salomaa, Transformation of quantum states using uniformly controlled rotations, Quantum Information and Computation, 5 (2005) pp. 467-473. (https://dl.acm.org/doi/abs/10.5555/2011670.2011675)"
   ]
  },
  {
   "cell_type": "code",
   "execution_count": null,
   "id": "8dc83bf8",
   "metadata": {},
   "outputs": [],
   "source": [
    "def encode(point):\n",
    "    "
   ]
  },
  {
   "cell_type": "markdown",
   "id": "604af093",
   "metadata": {},
   "source": [
    "### EDIT THIS CELL TO COMMENT YOUR SOLUTION ###"
   ]
  },
  {
   "cell_type": "markdown",
   "id": "0e7ab56d",
   "metadata": {},
   "source": [
    "### Identify which tasks can be executed on quantum devices ###\n",
    "In this part, you should describe which part of the computation be executed on quantum devices. For each task, you should\n",
    "* Identify the corresponding algorithm\n",
    "* Provide a possible design for each algorithm, including possible data encoding"
   ]
  },
  {
   "cell_type": "markdown",
   "id": "b575400f",
   "metadata": {},
   "source": [
    "#### EDIT HERE TO COMMENT YOUR SOLUTION ####"
   ]
  },
  {
   "cell_type": "markdown",
   "id": "75cfb39c",
   "metadata": {},
   "source": [
    "### Implement quantum tasks ###\n",
    "In the next cells, you should implement **AT LEAST ONE** identified quantum tasks. For the ones you do not implement, you should justify why you decided to not implement it in quantum version. Justification can be related to the limit of available quantum hardware. Add as many cells you need for your code and describe your implementation. "
   ]
  },
  {
   "cell_type": "markdown",
   "id": "bc6ddde3",
   "metadata": {},
   "source": [
    "### Compare executions ###\n",
    "Execute both classic and quantum version of k-means and compare results. Add as many cells you need to run your code, describe your implementation and comment your results. "
   ]
  },
  {
   "cell_type": "markdown",
   "id": "0bc9810b",
   "metadata": {},
   "source": [
    "### Bonus question (15 points) ### \n",
    "* What would you need to change to implement the k-medians?\n",
    "* Are there additional quantum tasks that you can have if you implement k-medians?\n",
    "* "
   ]
  },
  {
   "cell_type": "markdown",
   "id": "739dac47",
   "metadata": {},
   "source": [
    "## Exercise 3: Quantum SVM (30 points) ##\n",
    "In this exercise, you will apply quantum SVM to perform some basic classification task. You should perform training and evaluation for one of the selected datasets. Bonus points (up to 15) will be awarded if you perform dataset preprocessing."
   ]
  },
  {
   "cell_type": "markdown",
   "id": "34438fec",
   "metadata": {},
   "source": [
    "### Data analysis with Quantum SVM ###"
   ]
  },
  {
   "cell_type": "code",
   "execution_count": null,
   "id": "1db5581a",
   "metadata": {},
   "outputs": [],
   "source": [
    "from sklearn.datasets import load_iris, load_wine, load_breast_cancer\n",
    "from qiskit_machine_learning.kernels import FidelityQuantumKernel\n",
    "from qiskit.primitives import Sampler\n",
    "from qiskit_algorithms.state_fidelities import ComputeUncompute\n",
    "from qiskit_machine_learning.algorithms import QSVC\n",
    "from sklearn.model_selection import train_test_split\n",
    "### EDIT FROM HERE ###"
   ]
  },
  {
   "cell_type": "markdown",
   "id": "bf314754",
   "metadata": {},
   "source": [
    "#### EDIT HERE TO COMMENT YOUR SOLUTION ####"
   ]
  },
  {
   "cell_type": "markdown",
   "id": "4959d61b",
   "metadata": {},
   "source": [
    "### Try different Feature Maps ###\n",
    "Check the results of your model by training with different Feature Maps. Which one gives the best results?"
   ]
  },
  {
   "cell_type": "code",
   "execution_count": null,
   "id": "c4797b2e",
   "metadata": {},
   "outputs": [],
   "source": [
    "### EDIT FROM HERE ###"
   ]
  },
  {
   "cell_type": "markdown",
   "id": "401ad8e9",
   "metadata": {},
   "source": [
    "### Compare with classic SVM ###\n",
    "Compare your results with classic SVM."
   ]
  },
  {
   "cell_type": "code",
   "execution_count": null,
   "id": "0796cfaa",
   "metadata": {},
   "outputs": [],
   "source": [
    "### EDIT FROM HERE ###"
   ]
  },
  {
   "cell_type": "markdown",
   "id": "cba0a6b8",
   "metadata": {},
   "source": [
    "#### EDIT HERE TO COMMENT YOUR SOLUTION ####"
   ]
  },
  {
   "cell_type": "code",
   "execution_count": null,
   "id": "7b0e8806",
   "metadata": {},
   "outputs": [],
   "source": []
  }
 ],
 "metadata": {
  "kernelspec": {
   "display_name": "Python 3 (ipykernel)",
   "language": "python",
   "name": "python3"
  },
  "language_info": {
   "codemirror_mode": {
    "name": "ipython",
    "version": 3
   },
   "file_extension": ".py",
   "mimetype": "text/x-python",
   "name": "python",
   "nbconvert_exporter": "python",
   "pygments_lexer": "ipython3",
   "version": "3.10.12"
  }
 },
 "nbformat": 4,
 "nbformat_minor": 5
}
