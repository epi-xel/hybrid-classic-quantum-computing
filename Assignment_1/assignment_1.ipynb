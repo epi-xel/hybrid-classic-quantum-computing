{
 "cells": [
  {
   "cell_type": "code",
   "execution_count": 5,
   "metadata": {},
   "outputs": [],
   "source": [
    "from qiskit import QuantumRegister, ClassicalRegister, QuantumCircuit\n",
    "from qiskit import Aer\n",
    "from qiskit_ibm_provider import IBMProvider\n",
    "from qiskit.visualization import plot_distribution\n",
    "from qiskit.providers.fake_provider import FakeManilaV2\n",
    "import qiskit.quantum_info as qi\n",
    "import os\n",
    "\n",
    "backend = Aer.get_backend('qasm_simulator')\n",
    "remote = False\n",
    "f_backend = FakeManilaV2()\n",
    "if remote:\n",
    "    provider = IBMProvider()\n",
    "    backend = provider.get_backend(\"ibmq_qasm_simulator\")\n",
    "else:\n",
    "    backend = Aer.get_backend('aer_simulator')\n",
    "    \n",
    "# create folder for saving images\n",
    "folder = \"nb_images/\"\n",
    "os.makedirs(folder, exist_ok=True)"
   ]
  },
  {
   "cell_type": "code",
   "execution_count": 6,
   "metadata": {},
   "outputs": [
    {
     "data": {
      "text/latex": [
       "$$Statevector:\\frac{\\sqrt{2}}{2} |01\\rangle+\\frac{\\sqrt{2}}{2} |10\\rangle$$"
      ],
      "text/plain": [
       "<IPython.core.display.Latex object>"
      ]
     },
     "metadata": {},
     "output_type": "display_data"
    }
   ],
   "source": [
    "def define_circuit_4():\n",
    "    qr = QuantumRegister(2, 'q')\n",
    "    quantum_circuit = QuantumCircuit(qr)\n",
    "    quantum_circuit.h(0)\n",
    "    quantum_circuit.x(qr[1])\n",
    "    quantum_circuit.cx(qr[0], qr[1])\n",
    "    stv = qi.Statevector.from_instruction(quantum_circuit)\n",
    "    display(stv.draw(output='latex', prefix='Statevector:'))\n",
    "    return quantum_circuit\n",
    "\n",
    "quantum_circuit = define_circuit_4()\n",
    "quantum_circuit.draw(output='mpl',filename=folder + 'bell_state')\n",
    "res = backend.run(quantum_circuit, shots=1000)"
   ]
  },
  {
   "cell_type": "code",
   "execution_count": 7,
   "metadata": {},
   "outputs": [
    {
     "data": {
      "text/latex": [
       "$$Statevector:\\frac{\\sqrt{2}}{2} |0\\rangle+\\frac{\\sqrt{2}}{2} |1\\rangle$$"
      ],
      "text/plain": [
       "<IPython.core.display.Latex object>"
      ]
     },
     "metadata": {},
     "output_type": "display_data"
    }
   ],
   "source": [
    "def define_circuit_5():\n",
    "    q_r = QuantumRegister(1, 'q')\n",
    "    c_r = ClassicalRegister(1, 'c')\n",
    "    quantum_circuit = QuantumCircuit(q_r,c_r)\n",
    "    quantum_circuit.h(0)\n",
    "    stv = qi.Statevector.from_instruction(quantum_circuit)\n",
    "    display(stv.draw(output='latex', prefix='Statevector:'))\n",
    "    quantum_circuit.measure(0,0)\n",
    "    return quantum_circuit\n",
    "\n",
    "quantum_circuit = define_circuit_5()\n",
    "quantum_circuit.draw(output='mpl',filename=folder + 'circuit_5')\n",
    "\n",
    "res1 = backend.run(quantum_circuit, shots=1000)\n",
    "res2 = f_backend.run(quantum_circuit, shots=1000)\n",
    "plot_distribution(res1.result().get_counts(),filename=folder + 'c5_perfect_distribution')\n",
    "plot_distribution(res2.result().get_counts(),filename=folder + 'c5_noisy_distribution')"
   ]
  },
  {
   "cell_type": "code",
   "execution_count": 8,
   "metadata": {},
   "outputs": [
    {
     "name": "stdout",
     "output_type": "stream",
     "text": [
      "3\n"
     ]
    },
    {
     "data": {
      "text/latex": [
       "$$Statevector:\\frac{\\sqrt{2}}{2} |000\\rangle+\\frac{\\sqrt{2}}{2} |111\\rangle$$"
      ],
      "text/plain": [
       "<IPython.core.display.Latex object>"
      ]
     },
     "metadata": {},
     "output_type": "display_data"
    }
   ],
   "source": [
    "def define_circuit_6():\n",
    "    qr = QuantumRegister(3, 'q')\n",
    "    cr = ClassicalRegister(3, 'c')\n",
    "    quantum_circuit = QuantumCircuit(qr, cr)\n",
    "    quantum_circuit.h(0)\n",
    "    quantum_circuit.cx(qr[0], qr[1])\n",
    "    quantum_circuit.cx(qr[1], qr[2])\n",
    "    stv = qi.Statevector.from_instruction(quantum_circuit)\n",
    "    display(stv.draw(output='latex', prefix='Statevector:'))\n",
    "    quantum_circuit.measure(qr[0], cr[0])\n",
    "    quantum_circuit.measure(qr[1], cr[1])\n",
    "    quantum_circuit.measure(qr[2], cr[2])\n",
    "    return quantum_circuit\n",
    "\n",
    "quantum_circuit = define_circuit_6()\n",
    "quantum_circuit.draw(output='mpl',filename=folder + 'circuit_6')\n",
    "\n",
    "res = f_backend.run(quantum_circuit, shots=1000)\n",
    "plot_distribution(res.result().get_counts(), filename=folder + 'c6_distribution')"
   ]
  }
 ],
 "metadata": {
  "kernelspec": {
   "display_name": "Python 3",
   "language": "python",
   "name": "python3"
  },
  "language_info": {
   "codemirror_mode": {
    "name": "ipython",
    "version": 3
   },
   "file_extension": ".py",
   "mimetype": "text/x-python",
   "name": "python",
   "nbconvert_exporter": "python",
   "pygments_lexer": "ipython3",
   "version": "3.11.6"
  }
 },
 "nbformat": 4,
 "nbformat_minor": 2
}
