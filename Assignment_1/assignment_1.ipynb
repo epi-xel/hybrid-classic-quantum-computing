{
 "cells": [
  {
   "cell_type": "markdown",
   "metadata": {},
   "source": [
    "# Assignment 1"
   ]
  },
  {
   "cell_type": "markdown",
   "metadata": {},
   "source": [
    "Initial imports"
   ]
  },
  {
   "cell_type": "code",
   "execution_count": 5,
   "metadata": {},
   "outputs": [],
   "source": [
    "from qiskit import QuantumRegister, ClassicalRegister, QuantumCircuit\n",
    "from qiskit import Aer\n",
    "from qiskit_ibm_provider import IBMProvider\n",
    "from qiskit.visualization import plot_distribution\n",
    "from qiskit.providers.fake_provider import FakeManilaV2\n",
    "import qiskit.quantum_info as qi\n",
    "import os"
   ]
  },
  {
   "cell_type": "markdown",
   "metadata": {},
   "source": [
    "Definition of backends"
   ]
  },
  {
   "cell_type": "code",
   "execution_count": null,
   "metadata": {},
   "outputs": [],
   "source": [
    "backend = Aer.get_backend('qasm_simulator')\n",
    "remote = False\n",
    "f_backend = FakeManilaV2()\n",
    "if remote:\n",
    "    provider = IBMProvider()\n",
    "    backend = provider.get_backend(\"ibmq_qasm_simulator\")\n",
    "else:\n",
    "    backend = Aer.get_backend('aer_simulator')\n",
    "    \n",
    "# create folder for saving images\n",
    "folder = \"nb_images/\"\n",
    "os.makedirs(folder, exist_ok=True)"
   ]
  },
  {
   "cell_type": "markdown",
   "metadata": {},
   "source": [
    "### Question 4"
   ]
  },
  {
   "cell_type": "markdown",
   "metadata": {},
   "source": [
    "Circuit for the definition of a bell state"
   ]
  },
  {
   "cell_type": "code",
   "execution_count": 6,
   "metadata": {},
   "outputs": [
    {
     "data": {
      "text/latex": [
       "$$Statevector:\\frac{\\sqrt{2}}{2} |01\\rangle+\\frac{\\sqrt{2}}{2} |10\\rangle$$"
      ],
      "text/plain": [
       "<IPython.core.display.Latex object>"
      ]
     },
     "metadata": {},
     "output_type": "display_data"
    }
   ],
   "source": [
    "def define_circuit_4():\n",
    "    # define the quantum circuit of 2 qubits\n",
    "    qr = QuantumRegister(2, 'q')\n",
    "    quantum_circuit = QuantumCircuit(qr)\n",
    "    # apply hadamard gate to the first qubit\n",
    "    quantum_circuit.h(0)\n",
    "    # apply X gate to the second qubit\n",
    "    quantum_circuit.x(qr[1])\n",
    "    # apply CNOT gate to the first and second qubit\n",
    "    quantum_circuit.cx(qr[0], qr[1])\n",
    "    # get the statevector of the quantum circuit\n",
    "    stv = qi.Statevector.from_instruction(quantum_circuit)\n",
    "    display(stv.draw(output='latex', prefix='Statevector:'))\n",
    "    return quantum_circuit\n",
    "\n",
    "quantum_circuit = define_circuit_4()\n",
    "quantum_circuit.draw(output='mpl',filename=folder + 'bell_state')\n",
    "# execute the quantum circuit\n",
    "res = backend.run(quantum_circuit, shots=1000)"
   ]
  },
  {
   "cell_type": "markdown",
   "metadata": {},
   "source": [
    "### Question 5"
   ]
  },
  {
   "cell_type": "markdown",
   "metadata": {},
   "source": [
    "Circuit to simulate the tossing of a fair coin"
   ]
  },
  {
   "cell_type": "code",
   "execution_count": 7,
   "metadata": {},
   "outputs": [
    {
     "data": {
      "text/latex": [
       "$$Statevector:\\frac{\\sqrt{2}}{2} |0\\rangle+\\frac{\\sqrt{2}}{2} |1\\rangle$$"
      ],
      "text/plain": [
       "<IPython.core.display.Latex object>"
      ]
     },
     "metadata": {},
     "output_type": "display_data"
    }
   ],
   "source": [
    "def define_circuit_5():\n",
    "    # define the quantum circuit of 1 qubit\n",
    "    q_r = QuantumRegister(1, 'q')\n",
    "    # define the classical register of 1 bit\n",
    "    c_r = ClassicalRegister(1, 'c')\n",
    "    quantum_circuit = QuantumCircuit(q_r,c_r)\n",
    "    # apply hadamard gate to the first qubit\n",
    "    quantum_circuit.h(0)\n",
    "    # get the statevector of the quantum circuit\n",
    "    stv = qi.Statevector.from_instruction(quantum_circuit)\n",
    "    display(stv.draw(output='latex', prefix='Statevector:'))\n",
    "    # measure the first qubit\n",
    "    quantum_circuit.measure(0,0)\n",
    "    return quantum_circuit\n",
    "\n",
    "quantum_circuit = define_circuit_5()\n",
    "quantum_circuit.draw(output='mpl',filename=folder + 'circuit_5')\n",
    "\n",
    "# execute the quantum circuit on the perfect simulator\n",
    "res1 = backend.run(quantum_circuit, shots=1000)\n",
    "# execute the quantum circuit on the noisy simulator\n",
    "res2 = f_backend.run(quantum_circuit, shots=1000)\n",
    "# plot the distribution of the results\n",
    "plot_distribution(res1.result().get_counts(),filename=folder + 'c5_perfect_distribution')\n",
    "plot_distribution(res2.result().get_counts(),filename=folder + 'c5_noisy_distribution')"
   ]
  },
  {
   "cell_type": "markdown",
   "metadata": {},
   "source": [
    "### Question 6"
   ]
  },
  {
   "cell_type": "markdown",
   "metadata": {},
   "source": [
    "Circuit for the definition of entanglement state of 3 qubits"
   ]
  },
  {
   "cell_type": "code",
   "execution_count": 8,
   "metadata": {},
   "outputs": [
    {
     "name": "stdout",
     "output_type": "stream",
     "text": [
      "3\n"
     ]
    },
    {
     "data": {
      "text/latex": [
       "$$Statevector:\\frac{\\sqrt{2}}{2} |000\\rangle+\\frac{\\sqrt{2}}{2} |111\\rangle$$"
      ],
      "text/plain": [
       "<IPython.core.display.Latex object>"
      ]
     },
     "metadata": {},
     "output_type": "display_data"
    }
   ],
   "source": [
    "def define_circuit_6():\n",
    "    # define the quantum circuit of 3 qubits\n",
    "    qr = QuantumRegister(3, 'q')\n",
    "    # define the classical register of 3 bits\n",
    "    cr = ClassicalRegister(3, 'c')\n",
    "    quantum_circuit = QuantumCircuit(qr, cr)\n",
    "    # apply hadamard gate to the first qubit\n",
    "    quantum_circuit.h(0)\n",
    "    # apply CNOT gate to the first and second qubit\n",
    "    quantum_circuit.cx(qr[0], qr[1])\n",
    "    # apply CNOT gate to the second and third qubit\n",
    "    quantum_circuit.cx(qr[1], qr[2])\n",
    "    # get the statevector of the quantum circuit\n",
    "    stv = qi.Statevector.from_instruction(quantum_circuit)\n",
    "    display(stv.draw(output='latex', prefix='Statevector:'))\n",
    "    # measure the first, second and third qubit\n",
    "    quantum_circuit.measure(qr[0], cr[0])\n",
    "    quantum_circuit.measure(qr[1], cr[1])\n",
    "    quantum_circuit.measure(qr[2], cr[2])\n",
    "    return quantum_circuit\n",
    "\n",
    "quantum_circuit = define_circuit_6()\n",
    "quantum_circuit.draw(output='mpl',filename=folder + 'circuit_6')\n",
    "\n",
    "# execute the quantum circuit on the noisy simulator\n",
    "res = f_backend.run(quantum_circuit, shots=1000)\n",
    "# plot the distribution of the results\n",
    "plot_distribution(res.result().get_counts(), filename=folder + 'c6_distribution')"
   ]
  }
 ],
 "metadata": {
  "kernelspec": {
   "display_name": "Python 3",
   "language": "python",
   "name": "python3"
  },
  "language_info": {
   "codemirror_mode": {
    "name": "ipython",
    "version": 3
   },
   "file_extension": ".py",
   "mimetype": "text/x-python",
   "name": "python",
   "nbconvert_exporter": "python",
   "pygments_lexer": "ipython3",
   "version": "3.11.7"
  }
 },
 "nbformat": 4,
 "nbformat_minor": 2
}
